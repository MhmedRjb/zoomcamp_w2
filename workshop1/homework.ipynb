{
  "cells": [
    {
      "cell_type": "code",
      "execution_count": 2,
      "metadata": {
        "colab": {
          "base_uri": "https://localhost:8080/"
        },
        "id": "wLng-bDJN4jf",
        "outputId": "547683cb-5f56-4815-a903-d0d9578eb1f9"
      },
      "outputs": [
        {
          "name": "stdout",
          "output_type": "stream",
          "text": [
            "the sum of the outputs of the generator for limit = 5 is 8.382332347441762\n"
          ]
        }
      ],
      "source": [
        "def square_root_generator(limit):\n",
        "    n = 1\n",
        "    while n <= limit:\n",
        "        yield n ** 0.5\n",
        "        n += 1\n",
        "\n",
        "# Example usage:\n",
        "limit = 5\n",
        "generator = square_root_generator(limit)\n",
        "temp=0\n",
        "for sqrt_value in generator:\n",
        "    temp=temp+sqrt_value\n",
        "print (f\"the sum of the outputs of the generator for limit = 5 is {temp}\")\n",
        "# the sum of the outputs of the generator for limit = 5 is 8.382332347441762"
      ]
    },
    {
      "cell_type": "code",
      "execution_count": 3,
      "metadata": {
        "colab": {
          "base_uri": "https://localhost:8080/"
        },
        "id": "2MoaQcdLBEk6",
        "outputId": "d2b93dc1-d83f-44ea-aeff-fdf51d75f7aa"
      },
      "outputs": [
        {
          "name": "stdout",
          "output_type": "stream",
          "text": [
            "{'ID': 1, 'Name': 'Person_1', 'Age': 26, 'City': 'City_A'}\n",
            "{'ID': 2, 'Name': 'Person_2', 'Age': 27, 'City': 'City_A'}\n",
            "{'ID': 3, 'Name': 'Person_3', 'Age': 28, 'City': 'City_A'}\n",
            "{'ID': 4, 'Name': 'Person_4', 'Age': 29, 'City': 'City_A'}\n",
            "{'ID': 5, 'Name': 'Person_5', 'Age': 30, 'City': 'City_A'}\n",
            "{'ID': 3, 'Name': 'Person_3', 'Age': 33, 'City': 'City_B', 'Occupation': 'Job_3'}\n",
            "{'ID': 4, 'Name': 'Person_4', 'Age': 34, 'City': 'City_B', 'Occupation': 'Job_4'}\n",
            "{'ID': 5, 'Name': 'Person_5', 'Age': 35, 'City': 'City_B', 'Occupation': 'Job_5'}\n",
            "{'ID': 6, 'Name': 'Person_6', 'Age': 36, 'City': 'City_B', 'Occupation': 'Job_6'}\n",
            "{'ID': 7, 'Name': 'Person_7', 'Age': 37, 'City': 'City_B', 'Occupation': 'Job_7'}\n",
            "{'ID': 8, 'Name': 'Person_8', 'Age': 38, 'City': 'City_B', 'Occupation': 'Job_8'}\n"
          ]
        }
      ],
      "source": [
        "def people_1():\n",
        "    for i in range(1, 6):\n",
        "        yield {\"ID\": i, \"Name\": f\"Person_{i}\", \"Age\": 25 + i, \"City\": \"City_A\"}\n",
        "\n",
        "for person in people_1():\n",
        "    print(person)\n",
        "\n",
        "\n",
        "def people_2():\n",
        "    for i in range(3, 9):\n",
        "        yield {\"ID\": i, \"Name\": f\"Person_{i}\", \"Age\": 30 + i, \"City\": \"City_B\", \"Occupation\": f\"Job_{i}\"}\n",
        "\n",
        "\n",
        "for person in people_2():\n",
        "    print(person)\n"
      ]
    },
    {
      "cell_type": "markdown",
      "metadata": {
        "id": "vtdTIm4fvQCN"
      },
      "source": []
    },
    {
      "cell_type": "code",
      "execution_count": 14,
      "metadata": {},
      "outputs": [
        {
          "name": "stdout",
          "output_type": "stream",
          "text": [
            "Pipeline dlt_ipykernel_launcher load step completed in 0.55 seconds\n",
            "1 load package(s) were loaded to destination duckdb and into dataset homework\n",
            "The duckdb destination used duckdb:///d:\\monymovment\\zoomcamp_w2\\zoomcamp_w2\\workshop1\\dlt_ipykernel_launcher.duckdb location to store data\n",
            "Load package 1707998784.992083 is LOADED and contains no failed jobs\n",
            "Loaded tables: \n"
          ]
        },
        {
          "data": {
            "text/plain": [
              "┌─────────────────────┐\n",
              "│        name         │\n",
              "│       varchar       │\n",
              "├─────────────────────┤\n",
              "│ _dlt_loads          │\n",
              "│ _dlt_pipeline_state │\n",
              "│ _dlt_version        │\n",
              "│ people1             │\n",
              "│ people2             │\n",
              "│ people_append       │\n",
              "│ people_merge        │\n",
              "└─────────────────────┘"
            ]
          },
          "metadata": {},
          "output_type": "display_data"
        }
      ],
      "source": [
        "import dlt\n",
        "import duckdb\n",
        "generators_pipeline = dlt.pipeline(destination='duckdb', dataset_name='homework')\n",
        "\n",
        "info = generators_pipeline.run(people_1(),table_name=\"people1\",write_disposition=\"replace\")\n",
        "info = generators_pipeline.run(people_2(),table_name=\"people2\",write_disposition=\"replace\")\n",
        "\n",
        "info = generators_pipeline.run(people_1(),table_name=\"people_append\",write_disposition=\"replace\")\n",
        "info = generators_pipeline.run(people_2(),table_name=\"people_append\",write_disposition=\"append\")\n",
        "\n",
        "info = generators_pipeline.run(people_1(),table_name=\"people_merge\",write_disposition=\"replace\")\n",
        "info = generators_pipeline.run(people_2(),table_name=\"people_merge\",write_disposition=\"merge\",primary_key=\"ID\")\n",
        "\n",
        "\n",
        "# the outcome metadata is returned by the load and we can inspect it by printing it.\n",
        "print(info)\n",
        "conn = duckdb.connect(f\"{generators_pipeline.pipeline_name}.duckdb\")\n",
        "\n",
        "# let's see the tables\n",
        "conn.sql(f\"SET search_path = '{generators_pipeline.dataset_name}'\")\n",
        "print('Loaded tables: ')\n",
        "display(conn.sql(\"show tables\"))\n"
      ]
    },
    {
      "cell_type": "code",
      "execution_count": 25,
      "metadata": {},
      "outputs": [
        {
          "name": "stdout",
          "output_type": "stream",
          "text": [
            "people1\n"
          ]
        },
        {
          "data": {
            "text/plain": [
              "┌───────┬──────────┬───────┬─────────┬────────────────────┬────────────────┐\n",
              "│  id   │   name   │  age  │  city   │    _dlt_load_id    │    _dlt_id     │\n",
              "│ int64 │ varchar  │ int64 │ varchar │      varchar       │    varchar     │\n",
              "├───────┼──────────┼───────┼─────────┼────────────────────┼────────────────┤\n",
              "│     1 │ Person_1 │    26 │ City_A  │ 1707998781.1796246 │ saru3U56LQe/Lg │\n",
              "│     2 │ Person_2 │    27 │ City_A  │ 1707998781.1796246 │ 2Tk90ygl6HUlQQ │\n",
              "│     3 │ Person_3 │    28 │ City_A  │ 1707998781.1796246 │ FAJWOG6Tvenl4A │\n",
              "│     4 │ Person_4 │    29 │ City_A  │ 1707998781.1796246 │ wqXI9+n+tWfQ/Q │\n",
              "│     5 │ Person_5 │    30 │ City_A  │ 1707998781.1796246 │ wCVHyV7CbBGDAw │\n",
              "└───────┴──────────┴───────┴─────────┴────────────────────┴────────────────┘"
            ]
          },
          "metadata": {},
          "output_type": "display_data"
        },
        {
          "name": "stdout",
          "output_type": "stream",
          "text": [
            "people2\n"
          ]
        },
        {
          "data": {
            "text/plain": [
              "┌───────┬──────────┬───────┬─────────┬────────────┬────────────────────┬────────────────┐\n",
              "│  id   │   name   │  age  │  city   │ occupation │    _dlt_load_id    │    _dlt_id     │\n",
              "│ int64 │ varchar  │ int64 │ varchar │  varchar   │      varchar       │    varchar     │\n",
              "├───────┼──────────┼───────┼─────────┼────────────┼────────────────────┼────────────────┤\n",
              "│     3 │ Person_3 │    33 │ City_B  │ Job_3      │ 1707998781.9348311 │ +TSh5TqU0q9yuQ │\n",
              "│     4 │ Person_4 │    34 │ City_B  │ Job_4      │ 1707998781.9348311 │ T3HXhPtVVnpKoA │\n",
              "│     5 │ Person_5 │    35 │ City_B  │ Job_5      │ 1707998781.9348311 │ bV0XLTMU11tENw │\n",
              "│     6 │ Person_6 │    36 │ City_B  │ Job_6      │ 1707998781.9348311 │ vC5bQnWBpEs9wg │\n",
              "│     7 │ Person_7 │    37 │ City_B  │ Job_7      │ 1707998781.9348311 │ J4cNESHb1F305w │\n",
              "│     8 │ Person_8 │    38 │ City_B  │ Job_8      │ 1707998781.9348311 │ 1qrz2ySGrZI9Cg │\n",
              "└───────┴──────────┴───────┴─────────┴────────────┴────────────────────┴────────────────┘"
            ]
          },
          "metadata": {},
          "output_type": "display_data"
        },
        {
          "name": "stdout",
          "output_type": "stream",
          "text": [
            "people_append\n"
          ]
        },
        {
          "data": {
            "text/plain": [
              "┌───────┬──────────┬───────┬─────────┬────────────────────┬────────────────┬────────────┐\n",
              "│  id   │   name   │  age  │  city   │    _dlt_load_id    │    _dlt_id     │ occupation │\n",
              "│ int64 │ varchar  │ int64 │ varchar │      varchar       │    varchar     │  varchar   │\n",
              "├───────┼──────────┼───────┼─────────┼────────────────────┼────────────────┼────────────┤\n",
              "│     1 │ Person_1 │    26 │ City_A  │ 1707998782.6951106 │ Ul92tsIlw9qFkg │ NULL       │\n",
              "│     2 │ Person_2 │    27 │ City_A  │ 1707998782.6951106 │ JLO5Nt8GrCEM/g │ NULL       │\n",
              "│     3 │ Person_3 │    28 │ City_A  │ 1707998782.6951106 │ qdun0SDoRvadJg │ NULL       │\n",
              "│     4 │ Person_4 │    29 │ City_A  │ 1707998782.6951106 │ clbW/puS/stKHw │ NULL       │\n",
              "│     5 │ Person_5 │    30 │ City_A  │ 1707998782.6951106 │ d0kk8u4jJPbdsA │ NULL       │\n",
              "│     3 │ Person_3 │    33 │ City_B  │ 1707998783.4818864 │ 3oJzWVqLrhueFw │ Job_3      │\n",
              "│     4 │ Person_4 │    34 │ City_B  │ 1707998783.4818864 │ +nCb2yFV7jW++g │ Job_4      │\n",
              "│     5 │ Person_5 │    35 │ City_B  │ 1707998783.4818864 │ o/mBx/Mii/Gg4g │ Job_5      │\n",
              "│     6 │ Person_6 │    36 │ City_B  │ 1707998783.4818864 │ zEwjZC4kitmDgg │ Job_6      │\n",
              "│     7 │ Person_7 │    37 │ City_B  │ 1707998783.4818864 │ 6jnAvrYGL0MQkA │ Job_7      │\n",
              "│     8 │ Person_8 │    38 │ City_B  │ 1707998783.4818864 │ 05IwzAK7Fs4gEA │ Job_8      │\n",
              "├───────┴──────────┴───────┴─────────┴────────────────────┴────────────────┴────────────┤\n",
              "│ 11 rows                                                                     7 columns │\n",
              "└───────────────────────────────────────────────────────────────────────────────────────┘"
            ]
          },
          "metadata": {},
          "output_type": "display_data"
        },
        {
          "name": "stdout",
          "output_type": "stream",
          "text": [
            "people_merge\n"
          ]
        },
        {
          "data": {
            "text/plain": [
              "┌───────┬──────────┬───────┬─────────┬────────────────────┬────────────────┬────────────┐\n",
              "│  id   │   name   │  age  │  city   │    _dlt_load_id    │    _dlt_id     │ occupation │\n",
              "│ int64 │ varchar  │ int64 │ varchar │      varchar       │    varchar     │  varchar   │\n",
              "├───────┼──────────┼───────┼─────────┼────────────────────┼────────────────┼────────────┤\n",
              "│     1 │ Person_1 │    26 │ City_A  │ 1707998784.2304292 │ r9WmKxejRMl7sw │ NULL       │\n",
              "│     2 │ Person_2 │    27 │ City_A  │ 1707998784.2304292 │ gRNfit1kp7emwg │ NULL       │\n",
              "│     4 │ Person_4 │    34 │ City_B  │ 1707998784.992083  │ r7de+THaXrCirg │ Job_4      │\n",
              "│     5 │ Person_5 │    35 │ City_B  │ 1707998784.992083  │ HchORXVBHXhpYw │ Job_5      │\n",
              "│     3 │ Person_3 │    33 │ City_B  │ 1707998784.992083  │ IqPR8ddYhvU04A │ Job_3      │\n",
              "│     6 │ Person_6 │    36 │ City_B  │ 1707998784.992083  │ Kam0Yhl44CUUZg │ Job_6      │\n",
              "│     7 │ Person_7 │    37 │ City_B  │ 1707998784.992083  │ +fvQbXk20zyQPA │ Job_7      │\n",
              "│     8 │ Person_8 │    38 │ City_B  │ 1707998784.992083  │ TYgMFXXc0EXHkg │ Job_8      │\n",
              "└───────┴──────────┴───────┴─────────┴────────────────────┴────────────────┴────────────┘"
            ]
          },
          "metadata": {},
          "output_type": "display_data"
        }
      ],
      "source": [
        "def show_table(table_name):\n",
        "    table = conn.sql(f\"SELECT * FROM {table_name}\")\n",
        "    print(f\"{table_name}\")\n",
        "    display(table)\n",
        "    return table\n",
        "\n",
        "show_table(\"people1\")\n",
        "show_table(\"people2\")\n",
        "people_append=show_table(\"people_append\").df()\n",
        "people_merge=show_table(\"people_merge\").df()"
      ]
    },
    {
      "cell_type": "code",
      "execution_count": 24,
      "metadata": {},
      "outputs": [
        {
          "name": "stdout",
          "output_type": "stream",
          "text": [
            "Sum of Ages 353\n",
            "Sum of Ages 266\n"
          ]
        }
      ],
      "source": [
        "print (f\"Sum of Ages {people_append['age'].sum()}\")\n",
        "# Sum of Ages 353\n",
        "print (f\"Sum of Ages {people_merge['age'].sum()}\")\n",
        "# Sum of Ages 266"
      ]
    }
  ],
  "metadata": {
    "colab": {
      "provenance": []
    },
    "kernelspec": {
      "display_name": "Python 3",
      "name": "python3"
    },
    "language_info": {
      "codemirror_mode": {
        "name": "ipython",
        "version": 3
      },
      "file_extension": ".py",
      "mimetype": "text/x-python",
      "name": "python",
      "nbconvert_exporter": "python",
      "pygments_lexer": "ipython3",
      "version": "3.11.4"
    }
  },
  "nbformat": 4,
  "nbformat_minor": 0
}
